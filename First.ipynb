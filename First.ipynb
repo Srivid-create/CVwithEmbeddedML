{
  "nbformat": 4,
  "nbformat_minor": 0,
  "metadata": {
    "colab": {
      "provenance": [],
      "authorship_tag": "ABX9TyMeLrpMtDTKpNTIpTvpY+m7",
      "include_colab_link": true
    },
    "kernelspec": {
      "name": "python3",
      "display_name": "Python 3"
    },
    "language_info": {
      "name": "python"
    }
  },
  "cells": [
    {
      "cell_type": "markdown",
      "metadata": {
        "id": "view-in-github",
        "colab_type": "text"
      },
      "source": [
        "<a href=\"https://colab.research.google.com/github/Srivid-create/CVwithEmbeddedML/blob/main/First.ipynb\" target=\"_parent\"><img src=\"https://colab.research.google.com/assets/colab-badge.svg\" alt=\"Open In Colab\"/></a>"
      ]
    },
    {
      "cell_type": "code",
      "execution_count": 11,
      "metadata": {
        "colab": {
          "base_uri": "https://localhost:8080/"
        },
        "id": "Upnv2NJR-G3k",
        "outputId": "feaf706a-d7b3-401a-8849-8df3fcfd6e19"
      },
      "outputs": [
        {
          "output_type": "stream",
          "name": "stdout",
          "text": [
            "Wed Sep 18 11:58:02 2024\n"
          ]
        }
      ],
      "source": [
        "seconds_in_a_day = 24 * 60 * 60\n",
        "import time\n",
        "print(time.ctime())"
      ]
    },
    {
      "cell_type": "code",
      "source": [
        "time.sleep(5)\n",
        "print (time.ctime())"
      ],
      "metadata": {
        "colab": {
          "base_uri": "https://localhost:8080/"
        },
        "id": "Yvldx_r2_A9g",
        "outputId": "fc24ea10-637f-4528-cdcf-a9f2006eea3a"
      },
      "execution_count": 12,
      "outputs": [
        {
          "output_type": "stream",
          "name": "stdout",
          "text": [
            "Wed Sep 18 11:58:24 2024\n"
          ]
        }
      ]
    },
    {
      "cell_type": "markdown",
      "source": [
        "This is **bold**.\n",
        "This is *italic*.\n",
        "This is ~strikethrough~."
      ],
      "metadata": {
        "id": "fjbKySEUAImG"
      }
    },
    {
      "cell_type": "markdown",
      "source": [
        "$x + y = z$\n",
        "*italicized text*\n",
        "\n",
        "$\\sqrt{3x-1}+(1+x)^2$\n",
        "\n",
        "$e^x = \\sum_{i=0}^\\infty \\frac{1}{i!}x^i$\n",
        "\n",
        "\n",
        "$3x_1+6x_2+x_3 =<28$\n",
        "\n",
        "$7x_1+3x_2+2x_3 =<37 $\n",
        "\n",
        "$x_1, x_2,x_3 >=0$\n",
        "\n",
        "$u_i(t) = x_i(t) + \\beta(\\hat{x}(t)-x_i(t))+\\beta\\sum_{k=1}^{n_p} (x_i1,_k)(t)  $"
      ],
      "metadata": {
        "id": "GFVSvn7ie2Mf"
      }
    }
  ]
}